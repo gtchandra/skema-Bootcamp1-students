{
 "cells": [
  {
   "cell_type": "markdown",
   "metadata": {},
   "source": [
    "# exercises LAB 1\n",
    "### 1) from the string \"ArtificialIntelligence\" extract only the even characters\n",
    "### expected output: riiilnelgne"
   ]
  },
  {
   "cell_type": "code",
   "execution_count": null,
   "metadata": {},
   "outputs": [],
   "source": []
  },
  {
   "cell_type": "markdown",
   "metadata": {},
   "source": [
    "### 2) For the program below write down the expected output, then check your answer by copying the code, pasting it into your Python editor and running the program.\n",
    "(you can test the lines below using the REPL if you have python installed on your machine)"
   ]
  },
  {
   "cell_type": "markdown",
   "metadata": {},
   "source": [
    "\n",
    "    w = 2\n",
    "    x = 5\n",
    "    y = 7\n",
    "\n",
    "    a = w + y\n",
    "    b = y - w\n",
    "    c = y % x\n",
    "    d = y // w\n",
    "    e = y ** w\n",
    "    f = w * x\n",
    "    g = y / x\n",
    "    print(a,b,c,d,e,f,g)\n"
   ]
  },
  {
   "cell_type": "code",
   "execution_count": null,
   "metadata": {},
   "outputs": [],
   "source": []
  },
  {
   "cell_type": "markdown",
   "metadata": {},
   "source": [
    "### 3) A 0 is always the remainder whenever an even integer is divided by 2. Write a computer program that asks the use to enter an integer (odd or even) and have it report whether the integer entered is odd or even. You are required to implement this program using the modulus operator % and an if ... else ... selection construct."
   ]
  },
  {
   "cell_type": "code",
   "execution_count": null,
   "metadata": {},
   "outputs": [],
   "source": []
  },
  {
   "cell_type": "markdown",
   "metadata": {},
   "source": [
    "### 4) count the word \"the\" inside this string: \"the quick brown fox jump over the lazy dog\" "
   ]
  },
  {
   "cell_type": "markdown",
   "metadata": {},
   "source": [
    "### 5) print the downward half-pyramid pattern with stars, like in the example below:\n",
    "<pre>\n",
    "*****\n",
    "****\n",
    "***\n",
    "**\n",
    "*\n",
    "</pre>"
   ]
  },
  {
   "cell_type": "code",
   "execution_count": null,
   "metadata": {},
   "outputs": [],
   "source": []
  },
  {
   "cell_type": "markdown",
   "metadata": {},
   "source": [
    "### 6) Write a program that asks users to enter their percentage mark for a module of study.  The program prints the module grade as either A, B, C, D, E or F depending on the percentage mark entered."
   ]
  },
  {
   "cell_type": "markdown",
   "metadata": {},
   "source": [
    "A mark of 80% and above is awarded an A.\n",
    "\n",
    "A mark in the range of 70% through to 79% is awarded a B.\n",
    "\n",
    "A mark in the range of 60% through to 69% is awarded a C.\n",
    "\n",
    "A mark in the range of 50% through to 59% is awarded a D.\n",
    "\n",
    "A mark in the range of 40% through to 49% is awarded a E.\n",
    "\n",
    "Marks less than 40% are awarded an F."
   ]
  },
  {
   "cell_type": "code",
   "execution_count": null,
   "metadata": {},
   "outputs": [],
   "source": []
  },
  {
   "cell_type": "markdown",
   "metadata": {},
   "source": [
    "### 7) Use the Python range function to populate a Python list with the following arithmetic progressions. Print each list to the screen, use list and range built-in functions"
   ]
  },
  {
   "cell_type": "markdown",
   "metadata": {},
   "source": [
    "<pre>\n",
    "[110, 112, 114, 116, 118, 120, 122, 124, 126, 128]\n",
    "[140, 138, 136, 134, 132, 130, 128, 126, 124, 122]\n",
    "[-50, -48, -46, -44, -42, -40, -38, -36, -34, -32]\n",
    "[-20, -17, -14, -11, -8, -5, -2, 1, 4, 7, 10, 13, 16, 19, 22, 25, 28]\n",
    "[-20, -23, -26, -29]\n",
    "</pre>"
   ]
  },
  {
   "cell_type": "code",
   "execution_count": null,
   "metadata": {},
   "outputs": [],
   "source": []
  }
 ],
 "metadata": {
  "kernelspec": {
   "display_name": "Python 3",
   "language": "python",
   "name": "python3"
  },
  "language_info": {
   "codemirror_mode": {
    "name": "ipython",
    "version": 3
   },
   "file_extension": ".py",
   "mimetype": "text/x-python",
   "name": "python",
   "nbconvert_exporter": "python",
   "pygments_lexer": "ipython3",
   "version": "3.8.5"
  }
 },
 "nbformat": 4,
 "nbformat_minor": 4
}
