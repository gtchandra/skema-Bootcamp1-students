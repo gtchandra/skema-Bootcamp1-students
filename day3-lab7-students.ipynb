{
 "cells": [
  {
   "cell_type": "code",
   "execution_count": 15,
   "metadata": {},
   "outputs": [],
   "source": [
    "import numpy as np\n",
    "\n",
    "data=np.array([[-1.26356584,  7.16376914,  6.65286967],\n",
    "       [-0.79056614,  5.05922807,  5.64702233],\n",
    "       [ 0.9660033 ,  7.83589409,  5.96605105],\n",
    "       [-4.0160404 , 21.32977635, 21.69702124],\n",
    "       [-1.90358345,  9.73677094,  8.75134229],\n",
    "       [ 1.41069079,  8.51979406,  7.06018639],\n",
    "       [-4.15750907, 23.57576646, 22.89407545],\n",
    "       [-0.95710097,  8.88593669,  5.94832755],\n",
    "       [-3.72926405, 20.08672219, 19.39756749],\n",
    "       [-1.36434358,  6.7754983 ,  6.92703833],\n",
    "       [-3.7457475 , 17.27308928, 19.52512407],\n",
    "       [ 1.92613303, 10.87157562,  8.84074446],\n",
    "       [-1.56563311,  6.30979793,  7.53759814],\n",
    "       [ 0.76638661,  9.28079606,  5.60804912],\n",
    "       [ 2.8330194 , 15.00493077, 13.30886972],\n",
    "       [-0.2603251 ,  5.89893621,  5.07015763],\n",
    "       [-0.67384821,  8.67347897,  5.47007485],\n",
    "       [-2.25400635, 11.87185912, 10.25960495],\n",
    "       [-0.0376848 ,  2.78301217,  5.0014702 ],\n",
    "       [ 2.64698034, 13.66193193, 12.25344436],\n",
    "       [ 0.14766321,  6.53968706,  5.02257291],\n",
    "       [ 1.76918496, 10.38462665,  8.24033067],\n",
    "       [ 0.67491   ,  3.99177717,  5.47155742],\n",
    "       [ 4.26052585, 21.89589366, 23.79183816],\n",
    "       [-1.75961512,  6.62245674,  8.20537042],\n",
    "       [-0.36331332,  3.99068072,  5.13664869],\n",
    "       [-2.57934635, 11.06156009, 11.88750898],\n",
    "       [-1.02561026,  4.22509033,  6.08894907],\n",
    "       [-1.02165089,  5.06891893,  6.08055753],\n",
    "       [ 0.91152627,  9.42137172,  5.86016393],\n",
    "       [ 0.58752794,  7.86272759,  5.35735503],\n",
    "       [-1.94426636,  9.75354974,  8.91340122],\n",
    "       [-1.36886087,  4.8466919 ,  6.93982017],\n",
    "       [-0.95503157,  5.14047135,  5.94423112],\n",
    "       [-0.51338211,  1.71524226,  5.27285023],\n",
    "       [ 0.53337204,  2.8593825 ,  5.29451224],\n",
    "       [-0.36798269,  5.16786643,  5.14018374],\n",
    "       [-3.32224244, 15.90474381, 16.42629667],\n",
    "       [ 1.19857916,  5.69001364,  6.4872237 ],\n",
    "       [ 1.64779036,  6.62328328,  7.81090887],\n",
    "       [-2.12506371,  9.54200275,  9.67505541],\n",
    "       [-3.94864545, 22.34174753, 21.14132316],\n",
    "       [-0.67638817,  5.90909652,  5.47362527],\n",
    "       [ 1.49796204,  6.59235796,  7.32297464],\n",
    "       [ 0.67307103,  5.66239422,  5.46899115],\n",
    "       [ 1.03725155,  5.28763312,  6.1138098 ],\n",
    "       [-0.69795809,  1.49385788,  5.5043146 ],\n",
    "       [ 0.16421034,  5.28917845,  5.0279154 ],\n",
    "       [ 0.3590795 ,  5.76577031,  5.13348242],\n",
    "       [-0.59050754,  7.96916922,  5.36098882]])"
   ]
  },
  {
   "cell_type": "code",
   "execution_count": 8,
   "metadata": {},
   "outputs": [
    {
     "data": {
      "text/plain": [
       "(50, 3)"
      ]
     },
     "execution_count": 8,
     "metadata": {},
     "output_type": "execute_result"
    }
   ],
   "source": [
    "data.shape"
   ]
  },
  {
   "cell_type": "markdown",
   "metadata": {},
   "source": [
    "The dataset contained in data has 3 columns,\n",
    "they refer to a specific analysis of salesmen in a company.\n",
    "the first correspond to X consist of 50 instances of one feature, the distance from home of the salesman\n",
    "the second column y indicate the average of money spent in one month from the expense reports\n",
    "The company financial department wanted to create a prediction algorithm for the salesmen deparment and so the algorithm created the third column z with the predicted money spent by the salesman in relation with the distance from home (X).\n",
    "\n",
    "* plot the variables in a graph using matplotlib using 2 different colors\n",
    "* try to understand whether the model is good using:\n",
    "* evaluate the MSE \n",
    "* evaluate the R^2 coefficient\n",
    "\n",
    "Remember: MSE and R2 take as parameters (values, predicted_values)\n"
   ]
  },
  {
   "cell_type": "code",
   "execution_count": 1,
   "metadata": {},
   "outputs": [],
   "source": [
    "import matplotlib.pyplot as plt\n",
    "from sklearn.metrics import r2_score as R2\n",
    "from sklearn.metrics import mean_squared_error as MSE"
   ]
  },
  {
   "cell_type": "code",
   "execution_count": 4,
   "metadata": {},
   "outputs": [],
   "source": [
    "#draw the plot here\n"
   ]
  },
  {
   "cell_type": "code",
   "execution_count": 3,
   "metadata": {},
   "outputs": [],
   "source": [
    "\n",
    "#caculate MSE here"
   ]
  },
  {
   "cell_type": "code",
   "execution_count": 2,
   "metadata": {},
   "outputs": [],
   "source": [
    "# calculate R2 here"
   ]
  },
  {
   "cell_type": "code",
   "execution_count": null,
   "metadata": {},
   "outputs": [],
   "source": []
  }
 ],
 "metadata": {
  "kernelspec": {
   "display_name": "Python 3",
   "language": "python",
   "name": "python3"
  },
  "language_info": {
   "codemirror_mode": {
    "name": "ipython",
    "version": 3
   },
   "file_extension": ".py",
   "mimetype": "text/x-python",
   "name": "python",
   "nbconvert_exporter": "python",
   "pygments_lexer": "ipython3",
   "version": "3.8.5"
  }
 },
 "nbformat": 4,
 "nbformat_minor": 4
}
