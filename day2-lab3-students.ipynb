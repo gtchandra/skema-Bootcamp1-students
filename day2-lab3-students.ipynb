{
 "cells": [
  {
   "cell_type": "markdown",
   "metadata": {},
   "source": [
    "# Lab3 exercises\n",
    "\n",
    "### 1) Write a function that returns a column vector from multiple values in input\\\n",
    "example\n",
    "<pre>\n",
    "cv(1,2,3)\n",
    "array([[1],\n",
    "       [2],\n",
    "       [3]])\n",
    "</pre>"
   ]
  },
  {
   "cell_type": "code",
   "execution_count": null,
   "metadata": {},
   "outputs": [],
   "source": []
  },
  {
   "cell_type": "markdown",
   "metadata": {},
   "source": [
    "### 2) Easier version taking in input an array (not taking into account multiple input parameters)\n",
    "<pre>\n",
    "cv([1,4,2])\n",
    "array([[1],\n",
    "       [4],\n",
    "       [2]])\n",
    "</pre>"
   ]
  },
  {
   "cell_type": "code",
   "execution_count": null,
   "metadata": {},
   "outputs": [],
   "source": []
  },
  {
   "cell_type": "markdown",
   "metadata": {},
   "source": [
    "### 3) Write a function that takes an array and returns the transpose of the array. You can use 'np.transpose' or the '.T', but you may not use a loop."
   ]
  },
  {
   "cell_type": "code",
   "execution_count": null,
   "metadata": {},
   "outputs": [],
   "source": []
  },
  {
   "cell_type": "markdown",
   "metadata": {},
   "source": [
    "### 4) Write a NumPy program to create an element-wise comparison (equal, equal within a tolerance) of two given arrays\n",
    "example\n",
    "<pre>\n",
    "a=np.array([1,2,3])\n",
    "b=np.array([0.74,2.3,3.01])\n",
    "eqtest(a,b,0.5)\n",
    "True\n",
    "</pre>"
   ]
  },
  {
   "cell_type": "code",
   "execution_count": null,
   "metadata": {},
   "outputs": [],
   "source": []
  },
  {
   "cell_type": "markdown",
   "metadata": {},
   "source": [
    "### 5) Write a NumPy program to test element-wise for NaN of a given array."
   ]
  },
  {
   "cell_type": "code",
   "execution_count": null,
   "metadata": {},
   "outputs": [],
   "source": []
  },
  {
   "cell_type": "markdown",
   "metadata": {},
   "source": [
    "### 6) Write a NumPy program to create an array of 10 zeros,10 ones, 10 fives"
   ]
  },
  {
   "cell_type": "code",
   "execution_count": null,
   "metadata": {},
   "outputs": [],
   "source": []
  },
  {
   "cell_type": "markdown",
   "metadata": {},
   "source": [
    "### 7) Write a NumPy program to create an array of all the even integers from 30 to 70"
   ]
  },
  {
   "cell_type": "code",
   "execution_count": null,
   "metadata": {},
   "outputs": [],
   "source": []
  },
  {
   "cell_type": "markdown",
   "metadata": {},
   "source": [
    "### 8) Write a function using NumPy to generate a random number array between 0 and 1\n",
    "example\n",
    "<pre>\n",
    "randzeroone(3)\n",
    "[0.73434833 0.40929972 0.48984798]\n",
    "</pre>"
   ]
  },
  {
   "cell_type": "markdown",
   "metadata": {},
   "source": [
    "### 9)Write a NumPy program to generate an array of 15 random numbers from a standard normal distribution"
   ]
  },
  {
   "cell_type": "code",
   "execution_count": null,
   "metadata": {},
   "outputs": [],
   "source": []
  },
  {
   "cell_type": "markdown",
   "metadata": {},
   "source": [
    "### 10) Write a NumPy program to create a vector with values ranging from 15 to 55 and print all values except the first and last"
   ]
  },
  {
   "cell_type": "code",
   "execution_count": null,
   "metadata": {},
   "outputs": [],
   "source": []
  },
  {
   "cell_type": "markdown",
   "metadata": {},
   "source": [
    "### 11) Write a NumPy program to create a 4x4 matrix in which 0 and 1 are staggered, with zeros on the main diagonal like this\n",
    "\n",
    "      [[0, 1, 1, 1],\n",
    "       [1, 0, 1, 1],\n",
    "       [1, 1, 0, 1],\n",
    "       [1, 1, 1, 0]]"
   ]
  },
  {
   "cell_type": "code",
   "execution_count": null,
   "metadata": {},
   "outputs": [],
   "source": []
  },
  {
   "cell_type": "markdown",
   "metadata": {},
   "source": [
    "### 12) Create a matrix of 3x3 with numbers from 1 to 9 and extract the array [7,9] using the correct slicing syntax"
   ]
  },
  {
   "cell_type": "markdown",
   "metadata": {},
   "source": [
    "\n"
   ]
  },
  {
   "cell_type": "code",
   "execution_count": null,
   "metadata": {},
   "outputs": [],
   "source": []
  }
 ],
 "metadata": {
  "kernelspec": {
   "display_name": "Python 3",
   "language": "python",
   "name": "python3"
  },
  "language_info": {
   "codemirror_mode": {
    "name": "ipython",
    "version": 3
   },
   "file_extension": ".py",
   "mimetype": "text/x-python",
   "name": "python",
   "nbconvert_exporter": "python",
   "pygments_lexer": "ipython3",
   "version": "3.8.5"
  }
 },
 "nbformat": 4,
 "nbformat_minor": 4
}
